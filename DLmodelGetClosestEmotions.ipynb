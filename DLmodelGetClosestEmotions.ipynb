{
  "nbformat": 4,
  "nbformat_minor": 0,
  "metadata": {
    "colab": {
      "name": "DLmodelGetClosestEmotions",
      "provenance": [],
      "collapsed_sections": [],
      "authorship_tag": "ABX9TyPwGzA3MvIPFUZqPsZjgqps"
    },
    "kernelspec": {
      "name": "python3",
      "display_name": "Python 3"
    }
  },
  "cells": [
    {
      "cell_type": "code",
      "metadata": {
        "id": "7gqb8ysBT_7N",
        "colab_type": "code",
        "colab": {}
      },
      "source": [
        "import pandas as pd\n",
        "import numpy as np\n",
        "import random\n",
        "from keras.models import Sequential,Model\n",
        "from keras.models import Model\n",
        "from keras.layers import Input, Dense, Activation, Reshape, Dot\n",
        "from keras.layers import Concatenate, Dropout, Flatten, LSTM\n",
        "from keras.layers.embeddings import Embedding\n",
        "from sklearn.preprocessing import OneHotEncoder\n",
        "from keras.utils import plot_model\n",
        "#To get repeatable results OR To get stable results use seed as below. In this case we get same set of weights/embedings in every run\n",
        "# If we omit below 4 lines at each run different weights/embedings are produced.\n",
        "from numpy.random import seed\n",
        "seed(1)\n",
        "from tensorflow import set_random_seed\n",
        "set_random_seed(2)\n",
        "\n",
        "emotionsList= ['like','antipathy', 'hostility','love','warmth','loathe','abhor','intimacy','dislike','venom','affection',\n",
        "               'tenderness','animosity','attachment','infatuation','fondness','hate'] \n",
        "\n",
        "emoaffect= ['positive','negative', 'negative','positive','positive','negative','negative','positive','negative','negative','positive',\n",
        "               'positive','negative','positive','positive','positive','negative']                \n",
        "embedding_size = int(min(np.ceil((len(emotionsList))/2), 50 ))\n",
        "\n",
        "#Creating a mapping of emotions to integers. When we feed emotions and emoaffect into the embedding neural network, we will have to represent them as numbers,\n",
        "#and this mapping will let us keep track of the emotions.\n",
        "emotion_index = {emotion: idx for idx, emotion in enumerate(emotionsList)}\n",
        "index_emotion = {idx: emotion for emotion, idx in emotion_index.items()}\n",
        "\n",
        "emoaffect_index = {effect: idx for idx, effect in enumerate(emoaffect)}\n",
        "index_emoaffect = {idx: effect for effect, idx in emoaffect_index.items()}\n"
      ],
      "execution_count": 0,
      "outputs": []
    },
    {
      "cell_type": "code",
      "metadata": {
        "id": "ho5CTm1kZCKi",
        "colab_type": "code",
        "outputId": "29ee66b4-d19b-49f2-cf07-f159afa3e575",
        "colab": {
          "base_uri": "https://localhost:8080/",
          "height": 34
        }
      },
      "source": [
        "#creating data for training\n",
        "pairs = []\n",
        "for emotion, effect in zip(emotionsList, emoaffect):\n",
        "     pairs.append((emotion_index[emotion], emoaffect_index[effect]))    \n",
        "\n",
        "#Below are for testing purpose\n",
        "len(pairs), len(emoaffect), len(emotionsList)    \n",
        "n=11\n",
        "index_emotion[pairs[n][0]], index_emoaffect[pairs[n][1]]\n"
      ],
      "execution_count": 0,
      "outputs": [
        {
          "output_type": "execute_result",
          "data": {
            "text/plain": [
              "('tenderness', 'positive')"
            ]
          },
          "metadata": {
            "tags": []
          },
          "execution_count": 7
        }
      ]
    },
    {
      "cell_type": "code",
      "metadata": {
        "id": "RrU8KxOHZVeo",
        "colab_type": "code",
        "colab": {}
      },
      "source": [
        "#In order for any machine learning model to learn, it needs a training set. We are going to create a supervised learning model to train an embedding neural network.\n",
        "#Given an emotion and its effect/type (Positive Or Negative) get the three closest emotions to given Type of emotion.\n",
        "\n",
        "#We need to generate positive samples and negative samples to train the neural network. For positive samples: pick a pair from pairs and assign \n",
        "#it a 1. For negative samples: pick one random emotion and one random effect, make sure they are not in pairs, and assign them a 0. \n",
        "\n",
        "traindata_size = 30\n",
        "traindata = np.zeros((traindata_size, 3))\n",
        "for idx, (emotion_id, effect_id) in enumerate(pairs):\n",
        "            traindata[idx, :] = (emotion_id, effect_id, 1)\n",
        "idx += 1            \n",
        "# Add negative samples until traindata_size is reached\n",
        "while idx < 30:   \n",
        "     # random selection\n",
        "      random_emotion = random.randrange(len(emotionsList))\n",
        "      random_effect = random.randrange(len(emoaffect))  \n",
        "\n",
        "      # Check to make sure this is not a positive example\n",
        "      if (random_emotion, random_effect) not in pairs:     \n",
        "          # Add to batch and increment index\n",
        "            traindata[idx, :] = (random_emotion, random_effect, 0)\n",
        "            idx += 1  \n",
        "\n",
        "\n",
        "np.random.shuffle(traindata)"
      ],
      "execution_count": 0,
      "outputs": []
    },
    {
      "cell_type": "code",
      "metadata": {
        "id": "f4mD09slacd4",
        "colab_type": "code",
        "outputId": "c862c2d0-ae9d-4d69-d266-bea1ea7a5912",
        "colab": {
          "base_uri": "https://localhost:8080/",
          "height": 675
        }
      },
      "source": [
        "#Here the objective is not to build the model with best accuracy, but to generate best embeddings. The supervised task is just the method through which we train our network \n",
        "#to make the embeddings. We are not going to test our model on new data, so we don't need to evaluate the performance.\n",
        "\n",
        "#ValueError: Graph disconnected: cannot obtain value for tensor Tensor solved\n",
        "max_seq_length = 1 \n",
        "emotion_inputs = Input(shape=(max_seq_length,))\n",
        "emotion_embedding = Embedding(len(emotionsList), embedding_size, input_length=max_seq_length, name='emotion_embedding')(emotion_inputs)\n",
        "\n",
        "effect_inputs = Input(shape=(max_seq_length,))\n",
        "effect_embedding = Embedding(len(emoaffect), embedding_size, input_length=max_seq_length, name='effect_embedding')(effect_inputs)\n",
        "\n",
        "merged = Dot(name = 'dot_product', normalize = True, axes=2)([emotion_embedding, effect_embedding])\n",
        "merged = Reshape(target_shape = (max_seq_length,))(merged)\n",
        "binary_dense = Dense(16, activation='relu')(merged)\n",
        "output = Dense(1, activation = 'sigmoid')(binary_dense)\n",
        "model = Model(inputs = [emotion_inputs, effect_inputs], outputs = output)\n",
        "model.compile(optimizer = 'Adam', loss = 'binary_crossentropy', metrics = ['accuracy'])\n",
        "model.summary()"
      ],
      "execution_count": 0,
      "outputs": [
        {
          "output_type": "stream",
          "text": [
            "WARNING:tensorflow:From /usr/local/lib/python3.6/dist-packages/keras/backend/tensorflow_backend.py:66: The name tf.get_default_graph is deprecated. Please use tf.compat.v1.get_default_graph instead.\n",
            "\n",
            "WARNING:tensorflow:From /usr/local/lib/python3.6/dist-packages/keras/backend/tensorflow_backend.py:541: The name tf.placeholder is deprecated. Please use tf.compat.v1.placeholder instead.\n",
            "\n",
            "WARNING:tensorflow:From /usr/local/lib/python3.6/dist-packages/keras/backend/tensorflow_backend.py:4432: The name tf.random_uniform is deprecated. Please use tf.random.uniform instead.\n",
            "\n",
            "WARNING:tensorflow:From /usr/local/lib/python3.6/dist-packages/keras/optimizers.py:793: The name tf.train.Optimizer is deprecated. Please use tf.compat.v1.train.Optimizer instead.\n",
            "\n",
            "WARNING:tensorflow:From /usr/local/lib/python3.6/dist-packages/keras/backend/tensorflow_backend.py:3657: The name tf.log is deprecated. Please use tf.math.log instead.\n",
            "\n",
            "WARNING:tensorflow:From /usr/local/lib/python3.6/dist-packages/tensorflow_core/python/ops/nn_impl.py:183: where (from tensorflow.python.ops.array_ops) is deprecated and will be removed in a future version.\n",
            "Instructions for updating:\n",
            "Use tf.where in 2.0, which has the same broadcast rule as np.where\n",
            "Model: \"model_1\"\n",
            "__________________________________________________________________________________________________\n",
            "Layer (type)                    Output Shape         Param #     Connected to                     \n",
            "==================================================================================================\n",
            "input_1 (InputLayer)            (None, 1)            0                                            \n",
            "__________________________________________________________________________________________________\n",
            "input_2 (InputLayer)            (None, 1)            0                                            \n",
            "__________________________________________________________________________________________________\n",
            "emotion_embedding (Embedding)   (None, 1, 9)         153         input_1[0][0]                    \n",
            "__________________________________________________________________________________________________\n",
            "effect_embedding (Embedding)    (None, 1, 9)         153         input_2[0][0]                    \n",
            "__________________________________________________________________________________________________\n",
            "dot_product (Dot)               (None, 1, 1)         0           emotion_embedding[0][0]          \n",
            "                                                                 effect_embedding[0][0]           \n",
            "__________________________________________________________________________________________________\n",
            "reshape_1 (Reshape)             (None, 1)            0           dot_product[0][0]                \n",
            "__________________________________________________________________________________________________\n",
            "dense_1 (Dense)                 (None, 16)           32          reshape_1[0][0]                  \n",
            "__________________________________________________________________________________________________\n",
            "dense_2 (Dense)                 (None, 1)            17          dense_1[0][0]                    \n",
            "==================================================================================================\n",
            "Total params: 355\n",
            "Trainable params: 355\n",
            "Non-trainable params: 0\n",
            "__________________________________________________________________________________________________\n"
          ],
          "name": "stdout"
        }
      ]
    },
    {
      "cell_type": "code",
      "metadata": {
        "id": "p85oNdyscfLr",
        "colab_type": "code",
        "outputId": "1e7c2d9d-6ea4-4fb8-94e7-16622e5ee516",
        "colab": {
          "base_uri": "https://localhost:8080/",
          "height": 34
        }
      },
      "source": [
        "# Training the Model so that it can learn embeddings\n",
        "# Extract target variable from traindata\n",
        "y_train = traindata[:,2]\n",
        "# Extract all columns except last one\n",
        "X_train = traindata[:,:-1]\n",
        "model.fit([X_train[:,0], X_train[:,1]],y_train,epochs=5,verbose=0)\n",
        "#The list of Numpy arrays that you are passing to your model is not the size the model expected. Expected to see 2 array(s),\n",
        "#but instead got the following list of 1 array issue solved\n",
        "#indices[0,0] = 16 is not in [0, 3) issue is solved"
      ],
      "execution_count": 0,
      "outputs": [
        {
          "output_type": "execute_result",
          "data": {
            "text/plain": [
              "<keras.callbacks.History at 0x7f96c16aca90>"
            ]
          },
          "metadata": {
            "tags": []
          },
          "execution_count": 14
        }
      ]
    },
    {
      "cell_type": "code",
      "metadata": {
        "id": "V46TEwXzaxin",
        "colab_type": "code",
        "outputId": "a0826559-63d2-47b2-926f-ad6195a67c7e",
        "colab": {
          "base_uri": "https://localhost:8080/",
          "height": 84
        }
      },
      "source": [
        "\n",
        "\n",
        "trained_embedding_layer = model.get_layer('emotion_embedding')\n",
        "trained_emotion_weights = trained_embedding_layer.get_weights()[0]\n",
        "#We need to normalize the embeddings so that the dot product between two embeddings becomes the cosine similarity.\n",
        "trained_emotion_weights = trained_emotion_weights/ np.linalg.norm(trained_emotion_weights, axis = 1).reshape((-1, 1))\n",
        "\n",
        "def find_synonyms(name, weights):\n",
        "   #Calculate dot product between specific emotion and all others\n",
        "   try:\n",
        "       dists = np.dot(weights, weights[emotion_index[name]])       \n",
        "   except KeyError:\n",
        "        print(\"{} Not Found. Please enter an emotion from {}\".format(name,emotionsList))\n",
        "        return\n",
        "  # Sort distance indexes from smallest to largest\n",
        "   sorted_dists = np.argsort(dists)   \n",
        "   closest = sorted_dists[-3:]\n",
        "   print(\"Three closest emotions to {} are :\".format(name))\n",
        "   closest = closest[: : -1]\n",
        "   for i,v in enumerate(closest):        \n",
        "        print( index_emotion[v])\n",
        "\n",
        "find_synonyms('hate', trained_emotion_weights)"
      ],
      "execution_count": 0,
      "outputs": [
        {
          "output_type": "stream",
          "text": [
            "Three closest emotions to hate are :\n",
            "hate\n",
            "venom\n",
            "loathe\n"
          ],
          "name": "stdout"
        }
      ]
    }
  ]
}